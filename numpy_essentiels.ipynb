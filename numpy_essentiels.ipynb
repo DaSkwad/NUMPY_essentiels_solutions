{
 "cells": [
  {
   "cell_type": "markdown",
   "id": "2b3b2b4a",
   "metadata": {},
   "source": [
    "![Numpy](img/numpy.png)"
   ]
  },
  {
   "cell_type": "markdown",
   "id": "f766517b",
   "metadata": {},
   "source": [
    "Bienvenue dans ce notebook d'initiation à **NumPy**, une bibliothèque essentielle pour la data science avec Python.\n",
    "\n",
    "🎯 Objectif : Comprendre l'essentiel de NumPy\n",
    "\n",
    "---\n",
    "\n",
    "## 📌 Sommaire :\n",
    "1. Création de tableaux\n",
    "2. Dimensions et forme\n",
    "3. Indexation & slicing\n",
    "4. Opérations vectorielles\n",
    "5. Fonctions statistiques\n",
    "6. Manipulation et fusion\n",
    "7. Broadcasting\n",
    "\n",
    "---\n"
   ]
  },
  {
   "cell_type": "markdown",
   "id": "70dcafaa",
   "metadata": {},
   "source": [
    "# Introduction"
   ]
  },
  {
   "cell_type": "markdown",
   "id": "67847123",
   "metadata": {},
   "source": [
    "NumPy (**Numerical Python**) est la bibliothèque de base pour le calcul scientifique avec Python. Elle permet de manipuler des structures de données puissantes appelées **arrays** ou **tableaux**, optimisées pour la performance et la simplicité d’usage. NumPy est utilisé par presque toutes les bibliothèques de l’écosystème <a href='https://pydata.org/'>PyData</a> (comme **Pandas**, **Scikit-learn**, **SciPy**) et constitue une compétence fondamentale pour tout data scientist ou ingénieur en machine learning.\n",
    "\n",
    "\n",
    "<img src=\"img/numpy_foundation.png\" alt=\"Numpy\" style=\"display:block; margin-left:auto; margin-right:auto;\">"
   ]
  },
  {
   "cell_type": "markdown",
   "id": "a80eedaa",
   "metadata": {},
   "source": [
    "**Pourquoi Numpy ?**\n",
    "\n",
    "Contrairement aux listes Python classiques, les tableaux NumPy sont :\n",
    "- Plus **rapides** et moins gourmands en mémoire\n",
    "- Facilement extensibles à plusieurs dimensions (**vecteurs**, **matrices**, **tenseurs**)\n",
    "- Compatibles avec des **opérations vectorisées** et du **broadcasting**\n",
    "- Intégrés dans toutes les bibliothèques majeures de la **data science**"
   ]
  },
  {
   "cell_type": "markdown",
   "id": "d5f38aef",
   "metadata": {},
   "source": [
    "**Chargement de la librairie Numpy**"
   ]
  },
  {
   "cell_type": "code",
   "execution_count": 188,
   "id": "2da50fed",
   "metadata": {},
   "outputs": [],
   "source": [
    "import numpy as np"
   ]
  },
  {
   "cell_type": "markdown",
   "id": "95928317",
   "metadata": {},
   "source": [
    "# 1. 🎲 Création de tableaux NumPy"
   ]
  },
  {
   "cell_type": "markdown",
   "id": "5972d002",
   "metadata": {},
   "source": [
    "## 1.1. Depuis des objets Python"
   ]
  },
  {
   "cell_type": "markdown",
   "id": "9040286d",
   "metadata": {},
   "source": [
    "NumPy permet de créer facilement des tableaux numériques notamment à parti de listes Python"
   ]
  },
  {
   "cell_type": "code",
   "execution_count": 189,
   "id": "c6a9b853",
   "metadata": {},
   "outputs": [
    {
     "data": {
      "text/plain": [
       "[5, 10, 15]"
      ]
     },
     "metadata": {},
     "output_type": "display_data"
    },
    {
     "data": {
      "text/plain": [
       "array([ 5, 10, 15])"
      ]
     },
     "metadata": {},
     "output_type": "display_data"
    }
   ],
   "source": [
    "my_list = [5, 10, 15]           # liste Python contenant trois entiers\n",
    "my_array = np.array(my_list)    # convertit cette liste en tableau numpy, ce qui permet ensuite d’appliquer des opérations vectorielles\n",
    "\n",
    "display(my_list)\n",
    "display(my_array)"
   ]
  },
  {
   "cell_type": "markdown",
   "id": "c2e3040d",
   "metadata": {},
   "source": [
    "## 1.2. Tableaux 1D et 2D : vecteurs et matrices"
   ]
  },
  {
   "cell_type": "markdown",
   "id": "2887c819",
   "metadata": {},
   "source": [
    "La structure de base de NumPy est le `tableau` (array). Il peut être :\n",
    "\n",
    "**1D** : vecteur\n",
    "\n",
    "**2D** : matrice\n",
    "\n",
    "ou **nD** (plusieurs dimensions)"
   ]
  },
  {
   "cell_type": "code",
   "execution_count": 190,
   "id": "85707c6b",
   "metadata": {},
   "outputs": [
    {
     "data": {
      "text/plain": [
       "numpy.ndarray"
      ]
     },
     "metadata": {},
     "output_type": "display_data"
    },
    {
     "data": {
      "text/plain": [
       "array([1, 2, 3])"
      ]
     },
     "metadata": {},
     "output_type": "display_data"
    },
    {
     "name": "stdout",
     "output_type": "stream",
     "text": [
      "---------------\n"
     ]
    },
    {
     "data": {
      "text/plain": [
       "numpy.ndarray"
      ]
     },
     "metadata": {},
     "output_type": "display_data"
    },
    {
     "data": {
      "text/plain": [
       "array([[1, 2],\n",
       "       [3, 4]])"
      ]
     },
     "metadata": {},
     "output_type": "display_data"
    }
   ],
   "source": [
    "# Vecteur 1D\n",
    "v = np.array([1, 2, 3])\n",
    "\n",
    "# Matrice 2D\n",
    "m = np.array([[1, 2], [3, 4]])\n",
    "\n",
    "display(type(v))\n",
    "display(v)\n",
    "print(\"---------------\")\n",
    "display(type(m))\n",
    "display(m)"
   ]
  },
  {
   "cell_type": "markdown",
   "id": "902d5899",
   "metadata": {},
   "source": [
    "🧠 **À retenir** : une matrice 2D peut contenir une seule ligne ou une seule colonne, mais reste bien en deux dimensions."
   ]
  },
  {
   "cell_type": "markdown",
   "id": "e0606185",
   "metadata": {},
   "source": [
    "### 🧩 Exercices"
   ]
  },
  {
   "cell_type": "markdown",
   "id": "5f7efc9c",
   "metadata": {},
   "source": [
    "> Créez et affichez un vecteur contenant les entiers de 10 à 20"
   ]
  },
  {
   "cell_type": "code",
   "execution_count": 191,
   "id": "1d569284",
   "metadata": {},
   "outputs": [
    {
     "data": {
      "text/plain": [
       "array([10, 11, 12, 13, 14, 15, 16, 17, 18, 19, 20])"
      ]
     },
     "execution_count": 191,
     "metadata": {},
     "output_type": "execute_result"
    }
   ],
   "source": [
    "vector = np.array([x for x in range(10, 21)])\n",
    "\n",
    "vector"
   ]
  },
  {
   "cell_type": "markdown",
   "id": "8597f33f",
   "metadata": {},
   "source": [
    "> Créez et affichez une matrice 3x3 avec les entiers de 1 à 9"
   ]
  },
  {
   "cell_type": "code",
   "execution_count": 192,
   "id": "998b2054",
   "metadata": {},
   "outputs": [
    {
     "data": {
      "text/plain": [
       "array([[1, 2, 3],\n",
       "       [4, 5, 6],\n",
       "       [7, 8, 9]])"
      ]
     },
     "execution_count": 192,
     "metadata": {},
     "output_type": "execute_result"
    }
   ],
   "source": [
    "matrix = np.array([\n",
    "    [1, 2, 3],\n",
    "    [4, 5, 6],\n",
    "    [7, 8, 9]\n",
    "])\n",
    "\n",
    "matrix"
   ]
  },
  {
   "cell_type": "markdown",
   "id": "94aed28b",
   "metadata": {},
   "source": [
    "## 1.3. Séquences numériques"
   ]
  },
  {
   "cell_type": "markdown",
   "id": "64df168a",
   "metadata": {},
   "source": [
    "Il est facile de générer facilement des suites de nombres avec Numpy."
   ]
  },
  {
   "cell_type": "code",
   "execution_count": 193,
   "id": "eed4cc44",
   "metadata": {},
   "outputs": [
    {
     "data": {
      "text/plain": [
       "array([0, 2, 4, 6, 8])"
      ]
     },
     "metadata": {},
     "output_type": "display_data"
    },
    {
     "data": {
      "text/plain": [
       "array([0.  , 0.25, 0.5 , 0.75, 1.  ])"
      ]
     },
     "metadata": {},
     "output_type": "display_data"
    }
   ],
   "source": [
    "sequence_1 = np.arange(0, 10, 2)    # crée une suite de nombres allant de 0 à 8 avec un pas de 2\n",
    "sequence_2 = np.linspace(0, 1, 5)   # génère 5 valeurs également espacées entre 0 et 1 inclus\n",
    "\n",
    "display(sequence_1)\n",
    "display(sequence_2)"
   ]
  },
  {
   "cell_type": "markdown",
   "id": "4ea40543",
   "metadata": {},
   "source": [
    "### 🧩 Exercices"
   ]
  },
  {
   "cell_type": "markdown",
   "id": "a81e2fb3",
   "metadata": {},
   "source": [
    "> Créez un tableau avec des valeurs entre 0 et 20 espacées de 5"
   ]
  },
  {
   "cell_type": "code",
   "execution_count": 194,
   "id": "1f40061c",
   "metadata": {},
   "outputs": [
    {
     "data": {
      "text/plain": [
       "array([ 0,  5, 10, 15, 20])"
      ]
     },
     "execution_count": 194,
     "metadata": {},
     "output_type": "execute_result"
    }
   ],
   "source": [
    "my_array = np.arange(0, 21, 5)\n",
    "\n",
    "my_array"
   ]
  },
  {
   "cell_type": "markdown",
   "id": "f75dbcd3",
   "metadata": {},
   "source": [
    "> Utilisez ``linspace`` pour créer un tableau de 50 valeurs entre -1 et 1"
   ]
  },
  {
   "cell_type": "code",
   "execution_count": 195,
   "id": "e8e5a127",
   "metadata": {},
   "outputs": [
    {
     "data": {
      "text/plain": [
       "array([-1.        , -0.95918367, -0.91836735, -0.87755102, -0.83673469,\n",
       "       -0.79591837, -0.75510204, -0.71428571, -0.67346939, -0.63265306,\n",
       "       -0.59183673, -0.55102041, -0.51020408, -0.46938776, -0.42857143,\n",
       "       -0.3877551 , -0.34693878, -0.30612245, -0.26530612, -0.2244898 ,\n",
       "       -0.18367347, -0.14285714, -0.10204082, -0.06122449, -0.02040816,\n",
       "        0.02040816,  0.06122449,  0.10204082,  0.14285714,  0.18367347,\n",
       "        0.2244898 ,  0.26530612,  0.30612245,  0.34693878,  0.3877551 ,\n",
       "        0.42857143,  0.46938776,  0.51020408,  0.55102041,  0.59183673,\n",
       "        0.63265306,  0.67346939,  0.71428571,  0.75510204,  0.79591837,\n",
       "        0.83673469,  0.87755102,  0.91836735,  0.95918367,  1.        ])"
      ]
     },
     "execution_count": 195,
     "metadata": {},
     "output_type": "execute_result"
    }
   ],
   "source": [
    "my_array = np.linspace(-1, 1, 50)\n",
    "\n",
    "my_array"
   ]
  },
  {
   "cell_type": "markdown",
   "id": "60b8cd53",
   "metadata": {},
   "source": [
    "## 1.4. Génération de données aléatoires"
   ]
  },
  {
   "cell_type": "markdown",
   "id": "5ffd4833",
   "metadata": {},
   "source": [
    "NumPy propose également un module random pour créer des tableaux remplis de valeurs aléatoires."
   ]
  },
  {
   "cell_type": "code",
   "execution_count": 196,
   "id": "a37f02e3",
   "metadata": {},
   "outputs": [
    {
     "data": {
      "text/plain": [
       "4"
      ]
     },
     "metadata": {},
     "output_type": "display_data"
    },
    {
     "data": {
      "text/plain": [
       "array([[1, 3, 3],\n",
       "       [6, 9, 8],\n",
       "       [6, 1, 8]])"
      ]
     },
     "metadata": {},
     "output_type": "display_data"
    },
    {
     "data": {
      "text/plain": [
       "array([0.27792804, 0.41386089, 0.02230611, 0.05893498])"
      ]
     },
     "metadata": {},
     "output_type": "display_data"
    },
    {
     "data": {
      "text/plain": [
       "array([[0.26902558, 0.67429704, 0.29179931, 0.64215673],\n",
       "       [0.14471103, 0.05410838, 0.17021658, 0.81129392],\n",
       "       [0.81501723, 0.36932116, 0.28925884, 0.62308942],\n",
       "       [0.01350371, 0.45374602, 0.54092951, 0.81837492]])"
      ]
     },
     "metadata": {},
     "output_type": "display_data"
    },
    {
     "data": {
      "text/plain": [
       "array([ 0.43390441,  1.46000478,  0.72097432, -0.09691211])"
      ]
     },
     "metadata": {},
     "output_type": "display_data"
    },
    {
     "data": {
      "text/plain": [
       "array([[ 0.11298876, -0.99992618, -1.33078847, -0.75663349],\n",
       "       [-1.40544271, -0.29914337,  1.05365798, -0.71787187],\n",
       "       [ 1.09473064,  1.71582419, -0.59850801,  0.86106272],\n",
       "       [-0.88105427, -0.37399702,  1.44433677,  1.28798937]])"
      ]
     },
     "metadata": {},
     "output_type": "display_data"
    }
   ],
   "source": [
    "# Entiers aléatoires (entre 0 et 10, exclu)\n",
    "object_1 = np.random.randint(0, 10)           # un seul entier aléatoire entre 0 et 9\n",
    "object_2 = np.random.randint(0, 10, (3, 3))   # matrice 3x3 d'entiers aléatoires entre 0 et 9\n",
    "\n",
    "# Flottants aléatoires uniformes entre 0 et 1\n",
    "object_3 = np.random.rand(4)                 # vecteur de 4 flottants tirés d'une distribution uniforme [0, 1)\n",
    "object_4 = np.random.rand(4, 4)              # matrice 4x4 de flottants tirés d'une distribution uniforme [0, 1)\n",
    "\n",
    "# Flottants aléatoires selon une loi normale (moyenne = 0, écart-type = 1)\n",
    "object_5 = np.random.randn(4)                # vecteur de 4 flottants selon une loi normale centrée réduite\n",
    "object_6 = np.random.randn(4, 4)             # matrice 4x4 de flottants selon une loi normale centrée réduite              \n",
    "\n",
    "display(object_1)\n",
    "display(object_2)\n",
    "display(object_3)\n",
    "display(object_4)\n",
    "display(object_5)\n",
    "display(object_6)"
   ]
  },
  {
   "cell_type": "markdown",
   "id": "b879b1bc",
   "metadata": {},
   "source": [
    "### 🧩 Exercices"
   ]
  },
  {
   "cell_type": "markdown",
   "id": "40e22cee",
   "metadata": {},
   "source": [
    "> Générez un entier aléatoire entre 1 et 100"
   ]
  },
  {
   "cell_type": "code",
   "execution_count": 197,
   "id": "25731cb9",
   "metadata": {},
   "outputs": [
    {
     "data": {
      "text/plain": [
       "19"
      ]
     },
     "execution_count": 197,
     "metadata": {},
     "output_type": "execute_result"
    }
   ],
   "source": [
    "random_int = np.random.randint(1, 101)\n",
    "\n",
    "random_int"
   ]
  },
  {
   "cell_type": "markdown",
   "id": "df8d60bb",
   "metadata": {},
   "source": [
    "> Créez un tableau 1D de 10 entiers aléatoires entre 0 et 20"
   ]
  },
  {
   "cell_type": "code",
   "execution_count": 198,
   "id": "4b00b52d",
   "metadata": {},
   "outputs": [
    {
     "data": {
      "text/plain": [
       "array([ 7, 10,  5,  4,  8,  9, 10,  8, 10,  3])"
      ]
     },
     "execution_count": 198,
     "metadata": {},
     "output_type": "execute_result"
    }
   ],
   "source": [
    "my_array = np.random.randint(0, 21, (10,))\n",
    "\n",
    "my_array"
   ]
  },
  {
   "cell_type": "markdown",
   "id": "add9b4f6",
   "metadata": {},
   "source": [
    "> Générez une matrice 5x5 d’entiers entre 0 et 9"
   ]
  },
  {
   "cell_type": "code",
   "execution_count": 199,
   "id": "ab4478b7",
   "metadata": {},
   "outputs": [
    {
     "data": {
      "text/plain": [
       "array([[6, 8, 0, 9, 7],\n",
       "       [0, 1, 7, 6, 3],\n",
       "       [3, 1, 0, 9, 1],\n",
       "       [2, 0, 0, 9, 0],\n",
       "       [9, 7, 7, 1, 2]])"
      ]
     },
     "execution_count": 199,
     "metadata": {},
     "output_type": "execute_result"
    }
   ],
   "source": [
    "my_array = np.random.randint(0, 10, (5, 5))\n",
    "\n",
    "my_array"
   ]
  },
  {
   "cell_type": "markdown",
   "id": "be581286",
   "metadata": {},
   "source": [
    "> Générez un vecteur de 6 flottants aléatoires entre 0 et 1"
   ]
  },
  {
   "cell_type": "code",
   "execution_count": 200,
   "id": "0e9141f0",
   "metadata": {},
   "outputs": [
    {
     "data": {
      "text/plain": [
       "array([0.5282214 , 0.51459032, 0.07553137, 0.05800411, 0.12218124,\n",
       "       0.83529601])"
      ]
     },
     "execution_count": 200,
     "metadata": {},
     "output_type": "execute_result"
    }
   ],
   "source": [
    "vector = np.random.rand(6)\n",
    "\n",
    "vector"
   ]
  },
  {
   "cell_type": "markdown",
   "id": "7e20364d",
   "metadata": {},
   "source": [
    "> Créez une matrice 3x3 de flottants aléatoires entre 0 et 1"
   ]
  },
  {
   "cell_type": "code",
   "execution_count": 201,
   "id": "d0801da6",
   "metadata": {},
   "outputs": [
    {
     "data": {
      "text/plain": [
       "array([[0.40686537, 0.85267163, 0.64935992],\n",
       "       [0.68957287, 0.83612493, 0.60932588],\n",
       "       [0.04943167, 0.56343967, 0.81365145]])"
      ]
     },
     "execution_count": 201,
     "metadata": {},
     "output_type": "execute_result"
    }
   ],
   "source": [
    "matrix = np.random.rand(3, 3)\n",
    "\n",
    "matrix"
   ]
  },
  {
   "cell_type": "markdown",
   "id": "b0e60f21",
   "metadata": {},
   "source": [
    "> Générez un vecteur de 8 valeurs suivant une loi normale (moyenne 0, écart-type 1)"
   ]
  },
  {
   "cell_type": "code",
   "execution_count": 202,
   "id": "0937da99",
   "metadata": {},
   "outputs": [
    {
     "data": {
      "text/plain": [
       "array([-1.85547727, -0.52904957, -0.079463  ,  0.25744721, -0.07812235,\n",
       "        0.79708262, -0.16842516, -1.15336605])"
      ]
     },
     "execution_count": 202,
     "metadata": {},
     "output_type": "execute_result"
    }
   ],
   "source": [
    "vector = np.random.randn(8)\n",
    "\n",
    "vector"
   ]
  },
  {
   "cell_type": "markdown",
   "id": "21230dcb",
   "metadata": {},
   "source": [
    "> Créez une matrice 4x4 de valeurs aléatoires selon une loi normale"
   ]
  },
  {
   "cell_type": "code",
   "execution_count": 203,
   "id": "227d3aee",
   "metadata": {},
   "outputs": [
    {
     "data": {
      "text/plain": [
       "array([[-0.73409478, -0.8887094 , -0.49496708,  0.69647688],\n",
       "       [-1.00312962,  0.35979944,  1.57247839,  0.17489024],\n",
       "       [ 0.78792663,  0.94493748, -1.04815757, -1.59097285],\n",
       "       [ 0.22528892, -0.06652221, -0.33345509, -0.09763615]])"
      ]
     },
     "execution_count": 203,
     "metadata": {},
     "output_type": "execute_result"
    }
   ],
   "source": [
    "matrix = np.random.randn(4, 4)\n",
    "\n",
    "matrix"
   ]
  },
  {
   "cell_type": "markdown",
   "id": "5bf6fe4e",
   "metadata": {},
   "source": [
    "## 1.5. Tableaux pré-remplis"
   ]
  },
  {
   "cell_type": "markdown",
   "id": "2186896b",
   "metadata": {},
   "source": [
    "Numpy propose des fonctions pratiques pour créer rapidement des tableaux contenant des valeurs par défaut."
   ]
  },
  {
   "cell_type": "code",
   "execution_count": 204,
   "id": "a4b0e6c8",
   "metadata": {},
   "outputs": [
    {
     "data": {
      "text/plain": [
       "array([0., 0., 0., 0.])"
      ]
     },
     "metadata": {},
     "output_type": "display_data"
    },
    {
     "data": {
      "text/plain": [
       "array([[0., 0., 0., 0.],\n",
       "       [0., 0., 0., 0.],\n",
       "       [0., 0., 0., 0.],\n",
       "       [0., 0., 0., 0.]])"
      ]
     },
     "metadata": {},
     "output_type": "display_data"
    },
    {
     "data": {
      "text/plain": [
       "array([1., 1., 1., 1.])"
      ]
     },
     "metadata": {},
     "output_type": "display_data"
    },
    {
     "data": {
      "text/plain": [
       "array([[1., 1., 1., 1.],\n",
       "       [1., 1., 1., 1.],\n",
       "       [1., 1., 1., 1.],\n",
       "       [1., 1., 1., 1.]])"
      ]
     },
     "metadata": {},
     "output_type": "display_data"
    },
    {
     "data": {
      "text/plain": [
       "array([[1., 0., 0., 0.],\n",
       "       [0., 1., 0., 0.],\n",
       "       [0., 0., 1., 0.],\n",
       "       [0., 0., 0., 1.]])"
      ]
     },
     "metadata": {},
     "output_type": "display_data"
    }
   ],
   "source": [
    "# Zéros\n",
    "zeros = np.zeros(4)               # vecteur de 4 éléments contenant uniquement des zéros\n",
    "zeros_matrix = np.zeros((4, 4))   # matrice 4x4 remplie de zéros\n",
    "\n",
    "# Uns\n",
    "ones = np.ones(4)                 # vecteur de 4 éléments contenant uniquement des uns\n",
    "ones_matrix = np.ones((4, 4))     # matrice 4x4 remplie de uns\n",
    "\n",
    "# Matrice identité 4x4 (matrice carrée avec des 1 sur la diagonale principale et des 0 ailleur.\n",
    "# Elle joue un rôle similaire au nombre 1 pour la multiplication)\n",
    "matrix_identity = np.eye(4)     \n",
    "\n",
    "\n",
    "display(zeros)\n",
    "display(zeros_matrix)\n",
    "\n",
    "display(ones)\n",
    "display(ones_matrix)\n",
    "\n",
    "display(matrix_identity)"
   ]
  },
  {
   "cell_type": "markdown",
   "id": "2612416b",
   "metadata": {},
   "source": [
    "### 🧩 Exercices"
   ]
  },
  {
   "cell_type": "markdown",
   "id": "8176c843",
   "metadata": {},
   "source": [
    "> Créez un vecteur de 6 zéros"
   ]
  },
  {
   "cell_type": "code",
   "execution_count": 205,
   "id": "b447ccc1",
   "metadata": {},
   "outputs": [
    {
     "data": {
      "text/plain": [
       "array([0., 0., 0., 0., 0., 0.])"
      ]
     },
     "execution_count": 205,
     "metadata": {},
     "output_type": "execute_result"
    }
   ],
   "source": [
    "vector = np.zeros(6)\n",
    "\n",
    "vector"
   ]
  },
  {
   "cell_type": "markdown",
   "id": "54dcedcb",
   "metadata": {},
   "source": [
    "> Créez une matrice 3x5 remplie de zéros"
   ]
  },
  {
   "cell_type": "code",
   "execution_count": 206,
   "id": "0816b2eb",
   "metadata": {},
   "outputs": [
    {
     "data": {
      "text/plain": [
       "array([[0., 0., 0., 0., 0.],\n",
       "       [0., 0., 0., 0., 0.],\n",
       "       [0., 0., 0., 0., 0.]])"
      ]
     },
     "execution_count": 206,
     "metadata": {},
     "output_type": "execute_result"
    }
   ],
   "source": [
    "matrix = np.zeros((3, 5))\n",
    "\n",
    "matrix"
   ]
  },
  {
   "cell_type": "markdown",
   "id": "025052d1",
   "metadata": {},
   "source": [
    "> Créez un vecteur de 10 uns"
   ]
  },
  {
   "cell_type": "code",
   "execution_count": 207,
   "id": "35a613da",
   "metadata": {},
   "outputs": [
    {
     "data": {
      "text/plain": [
       "array([1., 1., 1., 1., 1., 1.])"
      ]
     },
     "execution_count": 207,
     "metadata": {},
     "output_type": "execute_result"
    }
   ],
   "source": [
    "vector = np.ones(6)\n",
    "\n",
    "vector"
   ]
  },
  {
   "cell_type": "markdown",
   "id": "1a035040",
   "metadata": {},
   "source": [
    "> Créez une matrice 2x3 remplie de uns"
   ]
  },
  {
   "cell_type": "code",
   "execution_count": 208,
   "id": "ff9ee922",
   "metadata": {},
   "outputs": [
    {
     "data": {
      "text/plain": [
       "array([[1., 1., 1.],\n",
       "       [1., 1., 1.]])"
      ]
     },
     "execution_count": 208,
     "metadata": {},
     "output_type": "execute_result"
    }
   ],
   "source": [
    "matrix = np.ones((2, 3))\n",
    "\n",
    "matrix"
   ]
  },
  {
   "cell_type": "markdown",
   "id": "2980a0bf",
   "metadata": {},
   "source": [
    "> Créez une matrice identité 8x8"
   ]
  },
  {
   "cell_type": "code",
   "execution_count": 209,
   "id": "7f83d5f0",
   "metadata": {},
   "outputs": [
    {
     "data": {
      "text/plain": [
       "array([[1., 0., 0., 0., 0., 0., 0., 0.],\n",
       "       [0., 1., 0., 0., 0., 0., 0., 0.],\n",
       "       [0., 0., 1., 0., 0., 0., 0., 0.],\n",
       "       [0., 0., 0., 1., 0., 0., 0., 0.],\n",
       "       [0., 0., 0., 0., 1., 0., 0., 0.],\n",
       "       [0., 0., 0., 0., 0., 1., 0., 0.],\n",
       "       [0., 0., 0., 0., 0., 0., 1., 0.],\n",
       "       [0., 0., 0., 0., 0., 0., 0., 1.]])"
      ]
     },
     "execution_count": 209,
     "metadata": {},
     "output_type": "execute_result"
    }
   ],
   "source": [
    "matrix = np.eye(8, 8)\n",
    "\n",
    "matrix"
   ]
  },
  {
   "cell_type": "markdown",
   "id": "a49857bf",
   "metadata": {},
   "source": [
    "# 2. 📐 Dimensions et forme des tableaux"
   ]
  },
  {
   "cell_type": "markdown",
   "id": "d82ee6a3",
   "metadata": {},
   "source": [
    "Numpy offre des attributs très utiles pour explorer la structure des tableaux"
   ]
  },
  {
   "cell_type": "code",
   "execution_count": 210,
   "id": "b29a8d9f",
   "metadata": {},
   "outputs": [
    {
     "name": "stdout",
     "output_type": "stream",
     "text": [
      "Tableau :\n",
      " [[ 0  1  2  3]\n",
      " [ 4  5  6  7]\n",
      " [ 8  9 10 11]] \n",
      "\n",
      "Forme (shape) : (3, 4) \n",
      "\n",
      "Nombre de dimensions : 2 \n",
      "\n",
      "Nombre total d'éléments : 12 \n",
      "\n",
      "Type de données (dtype) : int64 \n",
      "\n"
     ]
    }
   ],
   "source": [
    "# Tableau de 0 à 11 transformé en matrice 3x4 grâce à la méthode .reshape()\n",
    "# ⚠️ Attention : le produit des dimensions passées à reshape (ici 3×4 = 12) \n",
    "# doit exactement correspondre au nombre total d’éléments dans le tableau initial. Sinon, NumPy renverra une erreur !\n",
    "array = np.arange(12).reshape(3, 4)        \n",
    "\n",
    "print(\"Tableau :\\n\", array, \"\\n\")                     # affiche le tableau\n",
    "print(\"Forme (shape) :\", array.shape, \"\\n\")           # affiche la forme du tableau\n",
    "print(\"Nombre de dimensions :\", array.ndim, \"\\n\")     # affiche le nombre de dimensions\n",
    "print(\"Nombre total d'éléments :\", array.size, \"\\n\")  # affiche le nombre d'éléments\n",
    "print(\"Type de données (dtype) :\", array.dtype, \"\\n\") # affiche le type des données"
   ]
  },
  {
   "cell_type": "markdown",
   "id": "3711255b",
   "metadata": {},
   "source": [
    "### 🧩 Exercice"
   ]
  },
  {
   "cell_type": "markdown",
   "id": "b35b0eea",
   "metadata": {},
   "source": [
    "> Créez une matrice de forme 6x2 à partir de np.arange().  \n",
    "> Affichez sa forme, son nombre d’éléments, son nombre de dimensions."
   ]
  },
  {
   "cell_type": "code",
   "execution_count": 211,
   "id": "249fd6c6",
   "metadata": {},
   "outputs": [
    {
     "data": {
      "text/plain": [
       "array([[ 0,  1],\n",
       "       [ 2,  3],\n",
       "       [ 4,  5],\n",
       "       [ 6,  7],\n",
       "       [ 8,  9],\n",
       "       [10, 11]])"
      ]
     },
     "metadata": {},
     "output_type": "display_data"
    },
    {
     "data": {
      "text/plain": [
       "(6, 2)"
      ]
     },
     "execution_count": 211,
     "metadata": {},
     "output_type": "execute_result"
    }
   ],
   "source": [
    "matrix = np.arange(12).reshape(6, 2)\n",
    "\n",
    "display(matrix)\n",
    "matrix.shape"
   ]
  },
  {
   "cell_type": "markdown",
   "id": "2d2ea8d6",
   "metadata": {},
   "source": [
    "> Créez un tableau contenant les nombres de 0 à 19, puis transformez-le en matrice de 4 lignes et 5 colonnes."
   ]
  },
  {
   "cell_type": "code",
   "execution_count": 212,
   "id": "577fab78",
   "metadata": {},
   "outputs": [
    {
     "data": {
      "text/plain": [
       "array([ 0,  1,  2,  3,  4,  5,  6,  7,  8,  9, 10, 11, 12, 13, 14, 15, 16,\n",
       "       17, 18, 19])"
      ]
     },
     "metadata": {},
     "output_type": "display_data"
    },
    {
     "data": {
      "text/plain": [
       "array([[ 0,  1,  2,  3,  4],\n",
       "       [ 5,  6,  7,  8,  9],\n",
       "       [10, 11, 12, 13, 14],\n",
       "       [15, 16, 17, 18, 19]])"
      ]
     },
     "metadata": {},
     "output_type": "display_data"
    }
   ],
   "source": [
    "my_array = np.arange(0, 20)\n",
    "display(my_array)\n",
    "\n",
    "matrix = my_array.reshape(4, 5)\n",
    "display(matrix)"
   ]
  },
  {
   "cell_type": "markdown",
   "id": "fb55b390",
   "metadata": {},
   "source": [
    "> Vous disposez d’un tableau de 18 éléments. Quelles sont les trois formes possibles que vous pouvez lui donner avec reshape() en matrice 2D ?"
   ]
  },
  {
   "cell_type": "code",
   "execution_count": 213,
   "id": "42b2c3c8",
   "metadata": {},
   "outputs": [],
   "source": [
    "# (3, 6)\n",
    "# (6, 3)\n",
    "# (9, 2)"
   ]
  },
  {
   "cell_type": "markdown",
   "id": "59e6568d",
   "metadata": {},
   "source": [
    "# 3. 🔍 Indexing & Slicing"
   ]
  },
  {
   "cell_type": "markdown",
   "id": "3042c152",
   "metadata": {},
   "source": [
    "Lorsque vous travaillez avec des tableaux ou matrices NumPy, il est essentiel de savoir accéder aux éléments, **extraire des lignes**, **des colonnes** ou **des sous-parties**. Cette opération s’appelle l’**indexing** (accès à un ou plusieurs éléments) et le **slicing** (extraction de tranches).\n",
    "\n",
    "NumPy utilise une syntaxe très proche de celle des listes Python, mais adaptée aux tableaux multidimensionnels. Grâce à cela, vous pouvez :\n",
    "- Accéder à une valeur précise dans un tableau 2D\n",
    "- Extraire une ligne ou une colonne\n",
    "- Récupérer plusieurs lignes ou colonnes avec des tranches (slices)\n",
    "- Utiliser des conditions (masques logiques) pour filtrer certains éléments\n",
    "\n",
    "Dans les exemples suivants, nous allons manipuler une matrice 3x4 pour explorer ces différentes possibilités."
   ]
  },
  {
   "cell_type": "code",
   "execution_count": 214,
   "id": "94e8569a",
   "metadata": {},
   "outputs": [
    {
     "name": "stdout",
     "output_type": "stream",
     "text": [
      "Matrice :\n",
      " [[ 0  1  2  3]\n",
      " [ 4  5  6  7]\n",
      " [ 8  9 10 11]]\n"
     ]
    }
   ],
   "source": [
    "# Matrice de travail\n",
    "matrix = np.arange(12).reshape(3, 4)\n",
    "\n",
    "print(\"Matrice :\\n\", matrix)"
   ]
  },
  {
   "cell_type": "markdown",
   "id": "840588e9",
   "metadata": {},
   "source": [
    "## 3.1. Indexing"
   ]
  },
  {
   "cell_type": "markdown",
   "id": "d89ce625",
   "metadata": {},
   "source": [
    "**Indexing** = accès à un seul élément ou un groupe précis via des **indices explicites**."
   ]
  },
  {
   "cell_type": "code",
   "execution_count": 215,
   "id": "feaafc1f",
   "metadata": {},
   "outputs": [
    {
     "name": "stdout",
     "output_type": "stream",
     "text": [
      "Première ligne : [0 1 2 3]\n",
      "Dernière ligne : [ 8  9 10 11]\n",
      "Première colonne : [0 4 8]\n",
      "Première colonne : [ 3  7 11]\n",
      "Élément ligne 0, colonne 2 : 2\n"
     ]
    }
   ],
   "source": [
    "print(\"Première ligne :\", matrix[0])                # extrait toute la première ligne\n",
    "print(\"Dernière ligne :\", matrix[-1])               # extrait toute la dernière ligne\n",
    "print(\"Première colonne :\", matrix[:, 0])           # extrait tous les éléments de la 1ère colonne, sur toutes les lignes\n",
    "print(\"Première colonne :\", matrix[:, -1])          # extrait tous les éléments de la dernière colonne, sur toutes les lignes\n",
    "print(\"Élément ligne 0, colonne 2 :\", matrix[0, 2]) # extrait'élément situé à la 1ère ligne (index 0) et à la 3e colonne (index 2)"
   ]
  },
  {
   "cell_type": "markdown",
   "id": "85562d82",
   "metadata": {},
   "source": [
    "## 3.2. Slicing"
   ]
  },
  {
   "cell_type": "markdown",
   "id": "e643bb4d",
   "metadata": {},
   "source": [
    "**Slicing** = accès à une plage continue d’éléments avec l’opérateur : `(start:stop:step)`."
   ]
  },
  {
   "cell_type": "code",
   "execution_count": 216,
   "id": "2b1ee575",
   "metadata": {},
   "outputs": [
    {
     "name": "stdout",
     "output_type": "stream",
     "text": [
      "Lignes 0 et 1 :\n",
      " [[0 1 2 3]\n",
      " [4 5 6 7]] \n",
      "\n",
      "Colonnes 1 et 2 :\n",
      " [[ 1  2]\n",
      " [ 5  6]\n",
      " [ 9 10]] \n",
      "\n",
      "Colonnes 0, 2, ... :\n",
      " [[ 0  2]\n",
      " [ 4  6]\n",
      " [ 8 10]] \n",
      "\n",
      "Éléments > 5 :\n",
      " [ 6  7  8  9 10 11] \n",
      "\n",
      "Éléments pairs :\n",
      " [ 0  2  4  6  8 10] \n",
      "\n"
     ]
    }
   ],
   "source": [
    "print(\"Lignes 0 et 1 :\\n\", matrix[0:2], \"\\n\")               # extrait les deux premières lignes (lignes 0 et 1 incluses, ligne 2 exclue)\n",
    "print(\"Colonnes 1 et 2 :\\n\", matrix[:, 1:3], \"\\n\")          # extrait toutes les lignes mais seulement les colonnes 1 et 2 (3 exclue)\n",
    "print(\"Colonnes 0, 2, ... :\\n\", matrix[:, ::2], \"\\n\")       # extrait toutes les lignes mais une colonne sur deux (colonne 0, 2...)\n",
    "print(\"Éléments > 5 :\\n\", matrix[matrix > 5], \"\\n\")         # extrait tous les éléments dont la valeur est strictement supérieure à 5\n",
    "print(\"Éléments pairs :\\n\", matrix[matrix % 2 == 0], \"\\n\")  # extrait tous les éléments qui sont des nombres pairs (reste = 0 quand divisé par 2)"
   ]
  },
  {
   "cell_type": "markdown",
   "id": "324ec601",
   "metadata": {},
   "source": [
    "### 🧩 Exercice"
   ]
  },
  {
   "cell_type": "markdown",
   "id": "34a1ecb9",
   "metadata": {},
   "source": [
    "> À partir d’un tableau `array = np.arange(35).reshape(5, 7)`, répondez aux questions suivantes :  \n",
    "> 1. Affichez l’élément situé à la 3e ligne et 5e colonne.  \n",
    "> 2. Affichez toute la 2e ligne du tableau. \n",
    "> 3. Affichez toute la dernière colonne. \n",
    "> 4. Affichez les trois premières lignes du tableau. \n",
    "> 5. Affichez les colonnes 2 à 5 de toutes les lignes. \n",
    "> 6. Affichez les 3 derniers éléments de la 4e ligne.\n",
    "> 7. Affichez une ligne sur deux (lignes 0, 2, 4).  \n",
    "> 8. Affichez une colonne sur trois (colonnes 0, 3, 6).\n",
    "> 9. Affichez tous les éléments strictement supérieurs à 25.\n",
    "> 10. Affichez tous les éléments impairs du tableau.\n",
    "> 11. Affichez tous les éléments compris entre 10 et 20 inclus.\n",
    "> 12. Remplacez l’élément en ligne 1, colonne 4 par 999.\n",
    "> 13. Remplacez tous les éléments multiples de 7 par -7.\n",
    "> 14. Remplacez la 3e colonne par des zéros."
   ]
  },
  {
   "cell_type": "code",
   "execution_count": 217,
   "id": "637ae21e",
   "metadata": {},
   "outputs": [
    {
     "name": "stdout",
     "output_type": "stream",
     "text": [
      "[[ 0  1  2  3  4  5  6]\n",
      " [ 7  8  9 10 11 12 13]\n",
      " [14 15 16 17 18 19 20]\n",
      " [21 22 23 24 25 26 27]\n",
      " [28 29 30 31 32 33 34]]\n",
      "18\n",
      "[ 7  8  9 10 11 12 13]\n",
      "[ 6 13 20 27 34]\n",
      "[[ 0  1  2  3  4  5  6]\n",
      " [ 7  8  9 10 11 12 13]\n",
      " [14 15 16 17 18 19 20]]\n",
      "[[ 2  3  4  5]\n",
      " [ 9 10 11 12]\n",
      " [16 17 18 19]\n",
      " [23 24 25 26]\n",
      " [30 31 32 33]]\n",
      "[25 26 27]\n",
      "[[ 0  1  2  3  4  5  6]\n",
      " [14 15 16 17 18 19 20]\n",
      " [28 29 30 31 32 33 34]]\n",
      "[[ 0  3  6]\n",
      " [ 7 10 13]\n",
      " [14 17 20]\n",
      " [21 24 27]\n",
      " [28 31 34]]\n",
      "[26 27 28 29 30 31 32 33 34]\n",
      "[ 1  3  5  7  9 11 13 15 17 19 21 23 25 27 29 31 33]\n",
      "[10 11 12 13 14 15 16 17 18 19 20]\n",
      "[[  0   1   2   3   4   5   6]\n",
      " [  7   8   9  10 999  12  13]\n",
      " [ 14  15  16  17  18  19  20]\n",
      " [ 21  22  23  24  25  26  27]\n",
      " [ 28  29  30  31  32  33  34]]\n",
      "[[ -7   1   2   3   4   5   6]\n",
      " [ -7   8   9  10 999  12  13]\n",
      " [ -7  15  16  17  18  19  20]\n",
      " [ -7  22  23  24  25  26  27]\n",
      " [ -7  29  30  31  32  33  34]]\n",
      "[[ -7   1   0   3   4   5   6]\n",
      " [ -7   8   0  10 999  12  13]\n",
      " [ -7  15   0  17  18  19  20]\n",
      " [ -7  22   0  24  25  26  27]\n",
      " [ -7  29   0  31  32  33  34]]\n"
     ]
    }
   ],
   "source": [
    "array = np.arange(35).reshape(5, 7)\n",
    "\n",
    "print(array)\n",
    "\n",
    "# 1. Élément à la 3e ligne et 5e colonne\n",
    "print(array[2, 4])\n",
    "\n",
    "# 2. Toute la 2e ligne\n",
    "print(array[1])\n",
    "\n",
    "# 3. Toute la dernière colonne\n",
    "print(array[:, -1])\n",
    "\n",
    "# 4. Les trois premières lignes\n",
    "print(array[:3])\n",
    "\n",
    "# 5. Colonnes 2 à 5 de toutes les lignes\n",
    "print(array[:, 2:6])\n",
    "\n",
    "# 6. Les 3 derniers éléments de la 4e ligne\n",
    "print(array[3, -3:])\n",
    "\n",
    "# 7. Une ligne sur deux\n",
    "print(array[::2])\n",
    "\n",
    "# 8. Une colonne sur trois\n",
    "print(array[:, ::3])\n",
    "\n",
    "# 9. Éléments strictement supérieurs à 25\n",
    "print(array[array > 25])\n",
    "\n",
    "# 10. Éléments impairs\n",
    "print(array[array % 2 == 1])\n",
    "\n",
    "# 11. Éléments entre 10 et 20 inclus\n",
    "print(array[(array >= 10) & (array <= 20)])\n",
    "\n",
    "# 12. Remplacer l’élément en ligne 1, colonne 4 par 999\n",
    "array[1, 4] = 999\n",
    "print(array)\n",
    "\n",
    "# 13. Remplacer tous les multiples de 7 par -7\n",
    "array[array % 7 == 0] = -7\n",
    "print(array)\n",
    "\n",
    "# 14. Remplacer la 3e colonne par des zéros\n",
    "array[:, 2] = 0\n",
    "print(array)"
   ]
  },
  {
   "cell_type": "markdown",
   "id": "a7180d18",
   "metadata": {},
   "source": [
    "# 4. ➕ Opérations vectorielles"
   ]
  },
  {
   "cell_type": "markdown",
   "id": "93ca7e27",
   "metadata": {},
   "source": [
    "Lorsqu’on travaille avec des tableaux NumPy (vecteurs ou matrices), on peut effectuer des opérations mathématiques directement sur l’ensemble des éléments, sans utiliser de boucles. On parle d’**opérations vectorielles** ou **opérations élément par élément**.\n",
    "\n",
    "Cela permet :\n",
    "- d’écrire du code plus simple et plus lisible,\n",
    "- d’obtenir des calculs bien plus rapides grâce à l’optimisation interne de NumPy,\n",
    "- de manipuler facilement des données numériques comme dans les domaines de la data science ou du machine learning.\n",
    "\n",
    "**🤖 Pourquoi les opérations vectorielles sont essentielles en machine learning ?**\n",
    "\n",
    "Dans le machine learning, on travaille en permanence avec :\n",
    "- des vecteurs : chaque ligne de données (ex : un utilisateur avec ses caractéristiques) est un vecteur,\n",
    "- des matrices : un ensemble de données (ex : tous les utilisateurs) forme une matrice,\n",
    "- et des opérations mathématiques rapides pour entraîner et utiliser les modèles.\n"
   ]
  },
  {
   "cell_type": "code",
   "execution_count": 218,
   "id": "da7eadcf",
   "metadata": {},
   "outputs": [
    {
     "name": "stdout",
     "output_type": "stream",
     "text": [
      "Addition : [11 22 33]\n",
      "Soustraction : [ -9 -18 -27]\n",
      "Multiplication : [10 40 90]\n",
      "Division : [10. 10. 10.]\n",
      "Carrés de x : [1 4 9]\n",
      "Produit scalaire (x @ y) : 140\n",
      "Produit scalaire (np.dot) : 140\n",
      "Norme de x : 3.7416573867739413\n"
     ]
    }
   ],
   "source": [
    "x = np.array([1, 2, 3])\n",
    "y = np.array([10, 20, 30])\n",
    "\n",
    "print(\"Addition :\", x + y)\n",
    "\n",
    "print(\"Soustraction :\", x - y)\n",
    "\n",
    "print(\"Multiplication :\", x * y)\n",
    "\n",
    "print(\"Division :\", y / x)\n",
    "\n",
    "print(\"Carrés de x :\", x ** 2)\n",
    "\n",
    "print(\"Produit scalaire (x @ y) :\", x @ y)\n",
    "print(\"Produit scalaire (np.dot) :\", np.dot(x, y))\n",
    "\n",
    "print(\"Norme de x :\", np.linalg.norm(x))"
   ]
  },
  {
   "cell_type": "markdown",
   "id": "3dff2782",
   "metadata": {},
   "source": [
    "### 🧩 Exercices"
   ]
  },
  {
   "cell_type": "markdown",
   "id": "b3c90ca1",
   "metadata": {},
   "source": [
    "> Soit `x = np.array([2, 4, 6])` et `y = np.array([1, 3, 5])`  \n",
    "> 1. Calculez x + y  \n",
    "> 2. Calculez x - y  \n",
    "> 3. Calculez x * y (multiplication élément par élément)  \n",
    "> 4. Calculez x / y (division élément par élément)"
   ]
  },
  {
   "cell_type": "code",
   "execution_count": 219,
   "id": "452c7441",
   "metadata": {},
   "outputs": [
    {
     "name": "stdout",
     "output_type": "stream",
     "text": [
      "x + y = [ 3  7 11]\n",
      "x - y = [1 1 1]\n",
      "x * y = [ 2 12 30]\n",
      "x / y = [2.         1.33333333 1.2       ]\n"
     ]
    }
   ],
   "source": [
    "x = np.array([2, 4, 6])\n",
    "y = np.array([1, 3, 5])\n",
    "\n",
    "print(\"x + y =\", x + y)\n",
    "\n",
    "print(\"x - y =\", x - y)\n",
    "\n",
    "print(\"x * y =\", x * y)\n",
    "\n",
    "print(\"x / y =\", x / y)"
   ]
  },
  {
   "cell_type": "markdown",
   "id": "e4ff727c",
   "metadata": {},
   "source": [
    "> Reprenez les vecteurs x et y ci-dessus  \n",
    "> 1. Calculez le carré de chaque élément de x  \n",
    "> 2. Calculez le double de chaque élément de y  \n",
    "> 3. Ajoutez 10 à tous les éléments de x"
   ]
  },
  {
   "cell_type": "code",
   "execution_count": 220,
   "id": "d02bf2d5",
   "metadata": {},
   "outputs": [
    {
     "name": "stdout",
     "output_type": "stream",
     "text": [
      "x au carré : [ 4 16 36]\n",
      "2 * y = [ 2  6 10]\n",
      "x + 10 = [12 14 16]\n"
     ]
    }
   ],
   "source": [
    "print(\"x au carré :\", x**2)\n",
    "\n",
    "print(\"2 * y =\", 2 * y)\n",
    "\n",
    "print(\"x + 10 =\", x + 10)"
   ]
  },
  {
   "cell_type": "markdown",
   "id": "bef2e967",
   "metadata": {},
   "source": [
    "> Soit `x = np.array([1, 2, 3])` et `y = np.array([4, 5, 6])`  \n",
    "> 1. Calculez le **produit scalaire** de x et y avec `@`  \n",
    "> 2. Calculez le produit scalaire avec `np.dot()`  \n",
    "> 3. Vérifiez que les deux résultats sont identiques"
   ]
  },
  {
   "cell_type": "code",
   "execution_count": 221,
   "id": "e6defdb3",
   "metadata": {},
   "outputs": [
    {
     "name": "stdout",
     "output_type": "stream",
     "text": [
      "Produit scalaire avec @ : 44\n",
      "Produit scalaire avec np.dot() : 44\n",
      "Les deux résultats sont-ils identiques ? True\n"
     ]
    }
   ],
   "source": [
    "produit1 = x @ y\n",
    "print(\"Produit scalaire avec @ :\", produit1)\n",
    "\n",
    "produit2 = np.dot(x, y)\n",
    "print(\"Produit scalaire avec np.dot() :\", produit2)\n",
    "\n",
    "print(\"Les deux résultats sont-ils identiques ?\", produit1 == produit2)"
   ]
  },
  {
   "cell_type": "markdown",
   "id": "eac23148",
   "metadata": {},
   "source": [
    "> Soit `v = np.array([3, 4])`  \n",
    "> 1. Calculez la **norme** de v (indice : `np.linalg.norm`)  \n",
    "> 2. Normalisez v (divisez chaque élément par la norme)  \n",
    "> 3. Vérifiez que la norme du vecteur normalisé vaut 1"
   ]
  },
  {
   "cell_type": "code",
   "execution_count": 222,
   "id": "3adbac5a",
   "metadata": {},
   "outputs": [
    {
     "name": "stdout",
     "output_type": "stream",
     "text": [
      "Norme de v : 5.0\n",
      "Vecteur normalisé : [0.6 0.8]\n",
      "Norme du vecteur normalisé : 1.0\n"
     ]
    }
   ],
   "source": [
    "v = np.array([3, 4])\n",
    "\n",
    "norme = np.linalg.norm(v)\n",
    "print(\"Norme de v :\", norme)\n",
    "\n",
    "v_normalise = v / norme\n",
    "print(\"Vecteur normalisé :\", v_normalise)\n",
    "\n",
    "print(\"Norme du vecteur normalisé :\", np.linalg.norm(v_normalise))"
   ]
  },
  {
   "cell_type": "markdown",
   "id": "a4342f60",
   "metadata": {},
   "source": [
    "> Créez deux vecteurs a et b de taille 5, remplis avec des entiers de votre choix  \n",
    "> 1. Faites la somme, la différence et le produit terme à terme  \n",
    "> 2. Calculez la somme totale des éléments de a et de b  \n",
    "> 3. Calculez la moyenne des éléments de a"
   ]
  },
  {
   "cell_type": "code",
   "execution_count": 223,
   "id": "f72214cc",
   "metadata": {},
   "outputs": [
    {
     "name": "stdout",
     "output_type": "stream",
     "text": [
      "a + b = [ 3  7 11 15 19]\n",
      "a - b = [-1 -1 -1 -1 -1]\n",
      "a * b = [ 2 12 30 56 90]\n",
      "Somme des éléments de a : 25\n",
      "Somme des éléments de b : 30\n",
      "Moyenne des éléments de a : 5.0\n"
     ]
    }
   ],
   "source": [
    "a = np.array([1, 3, 5, 7, 9])\n",
    "b = np.array([2, 4, 6, 8, 10])\n",
    "\n",
    "# 1. Opérations terme à terme\n",
    "print(\"a + b =\", a + b)\n",
    "print(\"a - b =\", a - b)\n",
    "print(\"a * b =\", a * b)\n",
    "\n",
    "# 2. Somme totale des éléments\n",
    "print(\"Somme des éléments de a :\", np.sum(a))\n",
    "print(\"Somme des éléments de b :\", np.sum(b))\n",
    "\n",
    "# 3. Moyenne des éléments de a\n",
    "print(\"Moyenne des éléments de a :\", np.mean(a))"
   ]
  },
  {
   "cell_type": "markdown",
   "id": "1e668ad9",
   "metadata": {},
   "source": [
    "# 5. 📊 Fonctions statistiques utiles"
   ]
  },
  {
   "cell_type": "markdown",
   "id": "50720364",
   "metadata": {},
   "source": [
    "NumPy propose de nombreuses fonctions pour analyser rapidement des données numériques : **maximum**, **minimum**, **moyenne**, **écart-type**, **somme**, etc. Ces fonctions permettent d’obtenir des indicateurs statistiques simples sur un tableau, qu’il soit 1D (vecteur) ou 2D (matrice)."
   ]
  },
  {
   "cell_type": "markdown",
   "id": "8c24ddaf",
   "metadata": {},
   "source": [
    "## 5.1. Vecteur 1D"
   ]
  },
  {
   "cell_type": "code",
   "execution_count": 224,
   "id": "455778db",
   "metadata": {},
   "outputs": [
    {
     "name": "stdout",
     "output_type": "stream",
     "text": [
      "Tableau : [97  6 97 77 51 49  2 11 46 69]\n",
      "Max : 97\n",
      "Min : 2\n",
      "Moyenne : 50.5\n",
      "Écart-type : 33.59240985699002\n",
      "Somme : 505\n",
      "Indice du max : 0\n",
      "Indice du min : 6\n"
     ]
    }
   ],
   "source": [
    "# Tableau de 10 entiers aléatoires entre 0 et 99\n",
    "arr = np.random.randint(0, 100, (10,))\n",
    "\n",
    "print(\"Tableau :\", arr)\n",
    "print(\"Max :\", arr.max())                # Valeur maximale du tableau\n",
    "print(\"Min :\", arr.min())                # Valeur minimale du tableau\n",
    "print(\"Moyenne :\", arr.mean())           # Moyenne arithmétique\n",
    "print(\"Écart-type :\", arr.std())         # Écart-type (dispersion des valeurs)\n",
    "print(\"Somme :\", arr.sum())              # Somme de tous les éléments\n",
    "print(\"Indice du max :\", arr.argmax())   # Position (indice) de la valeur maximale\n",
    "print(\"Indice du min :\", arr.argmin())   # Position (indice) de la valeur minimale"
   ]
  },
  {
   "cell_type": "markdown",
   "id": "0cc94d43",
   "metadata": {},
   "source": [
    "## 5.2. Matrice 2D"
   ]
  },
  {
   "cell_type": "code",
   "execution_count": 225,
   "id": "08e984a0",
   "metadata": {},
   "outputs": [
    {
     "name": "stdout",
     "output_type": "stream",
     "text": [
      "Matrice :\n",
      " [[28 14 75 17 59]\n",
      " [10 91 19 63 87]\n",
      " [65 65 29 41 14]\n",
      " [14 31 73 79 23]] \n",
      "\n",
      "Moyenne globale : 44.85 \n",
      "\n",
      "Moyenne par ligne : [38.6 54.  42.8 44. ] \n",
      "\n",
      "Moyenne par colonne : [29.25 50.25 49.   50.   45.75] \n",
      "\n",
      "Somme par colonne : [117 201 196 200 183] \n",
      "\n"
     ]
    }
   ],
   "source": [
    "# matrice 4x5 d'entiers aléatoires entre 0 et 99\n",
    "matrix = np.random.randint(0, 100, (4, 5))\n",
    "\n",
    "print(\"Matrice :\\n\", matrix, \"\\n\")\n",
    "\n",
    "print(\"Moyenne globale :\", matrix.mean(), \"\\n\")              # Moyenne de tous les éléments\n",
    "print(\"Moyenne par ligne :\", matrix.mean(axis=1), \"\\n\")      # Moyenne de chaque ligne\n",
    "print(\"Moyenne par colonne :\", matrix.mean(axis=0), \"\\n\")    # Moyenne de chaque colonne\n",
    "print(\"Somme par colonne :\", matrix.sum(axis=0), \"\\n\")       # Somme de chaque colonne"
   ]
  },
  {
   "cell_type": "markdown",
   "id": "9d75310d",
   "metadata": {},
   "source": [
    "### 🧩 Exercices"
   ]
  },
  {
   "cell_type": "markdown",
   "id": "4c015f5e",
   "metadata": {},
   "source": [
    "> Générez un tableau de 15 entiers aléatoires entre 1 et 100.  \n",
    "> Affichez la valeur maximale, la valeur minimale et leur écart."
   ]
  },
  {
   "cell_type": "code",
   "execution_count": 226,
   "id": "36a04d44",
   "metadata": {},
   "outputs": [
    {
     "name": "stdout",
     "output_type": "stream",
     "text": [
      "Tableau : [65 17 13 62 85 69  6 48 43 34 87 76 12 50 32]\n",
      "Valeur maximale : 87\n",
      "Valeur minimale : 6\n",
      "Écart max - min : 81\n"
     ]
    }
   ],
   "source": [
    "my_array = np.random.randint(1, 101, (15,))\n",
    "print(\"Tableau :\", my_array)\n",
    "\n",
    "max_val = np.max(my_array)\n",
    "print(\"Valeur maximale :\", max_val)\n",
    "\n",
    "min_val = np.min(my_array)\n",
    "print(\"Valeur minimale :\", min_val)\n",
    "\n",
    "print(\"Écart max - min :\", max_val - min_val)"
   ]
  },
  {
   "cell_type": "markdown",
   "id": "6bea2c36",
   "metadata": {},
   "source": [
    "> Générez un tableau de 20 entiers aléatoires entre 0 et 50.  \n",
    "> Affichez la somme, la moyenne et la variance."
   ]
  },
  {
   "cell_type": "code",
   "execution_count": 227,
   "id": "c473d960",
   "metadata": {},
   "outputs": [
    {
     "name": "stdout",
     "output_type": "stream",
     "text": [
      "Tableau : [40 11 50 14 31  7 47  2  1  0 38 22 27 49 18 13 15 32 28 37]\n",
      "Somme : 482\n",
      "Moyenne : 24.1\n",
      "Variance : 248.89000000000004\n"
     ]
    }
   ],
   "source": [
    "tableau = np.random.randint(0, 51, (20,))\n",
    "\n",
    "print(\"Tableau :\", tableau)\n",
    "\n",
    "print(\"Somme :\", np.sum(tableau))\n",
    "\n",
    "print(\"Moyenne :\", np.mean(tableau))\n",
    "\n",
    "print(\"Variance :\", np.var(tableau))"
   ]
  },
  {
   "cell_type": "markdown",
   "id": "7bd0d66a",
   "metadata": {},
   "source": [
    "> Créez une matrice 5x4 d’entiers aléatoires entre 0 et 99.  \n",
    "> Affichez la moyenne de chaque ligne et la moyenne de chaque colonne."
   ]
  },
  {
   "cell_type": "code",
   "execution_count": 228,
   "id": "d34b06d6",
   "metadata": {},
   "outputs": [
    {
     "name": "stdout",
     "output_type": "stream",
     "text": [
      "Matrice :\n",
      " [[12 99  0 21]\n",
      " [98 22 39 71]\n",
      " [12 85 39 95]\n",
      " [23 37 98 89]\n",
      " [38 17 69 16]]\n",
      "Moyenne par ligne : [33.   57.5  57.75 61.75 35.  ]\n",
      "Moyenne par colonne : [36.6 52.  49.  58.4]\n"
     ]
    }
   ],
   "source": [
    "matrix = np.random.randint(0, 100, (5, 4))\n",
    "\n",
    "print(\"Matrice :\\n\", matrix)\n",
    "\n",
    "print(\"Moyenne par ligne :\", np.mean(matrix, axis=1))\n",
    "\n",
    "print(\"Moyenne par colonne :\", np.mean(matrix, axis=0))"
   ]
  },
  {
   "cell_type": "markdown",
   "id": "2522b63c",
   "metadata": {},
   "source": [
    "> Générez une matrice 6x3 d'entiers aléatoires.  \n",
    "> Affichez l’indice du maximum global, puis l’indice du maximum de chaque ligne."
   ]
  },
  {
   "cell_type": "code",
   "execution_count": 229,
   "id": "b2aa57ae",
   "metadata": {},
   "outputs": [
    {
     "name": "stdout",
     "output_type": "stream",
     "text": [
      "[[ 2 33 74]\n",
      " [38 96 83]\n",
      " [98 94 65]\n",
      " [37 15 40]\n",
      " [31 14 32]\n",
      " [51 55 39]]\n",
      "Indice du maximum global (dans le tableau aplati) : 6\n",
      "Indice du maximum de chaque ligne : [2 1 0 2 2 1]\n"
     ]
    }
   ],
   "source": [
    "matrix = np.random.randint(0, 100, (6, 3))\n",
    "\n",
    "print(matrix)\n",
    "\n",
    "print(\"Indice du maximum global (dans le tableau aplati) :\", np.argmax(matrix))\n",
    "\n",
    "print(\"Indice du maximum de chaque ligne :\", np.argmax(matrix, axis=1))"
   ]
  },
  {
   "cell_type": "markdown",
   "id": "52dbb9ef",
   "metadata": {},
   "source": [
    "> Créez un tableau de 12 flottants aléatoires entre 0 et 1.  \n",
    "> Comptez combien de valeurs sont supérieures à la moyenne."
   ]
  },
  {
   "cell_type": "code",
   "execution_count": 230,
   "id": "0daf669e",
   "metadata": {},
   "outputs": [
    {
     "name": "stdout",
     "output_type": "stream",
     "text": [
      "[0.9020993  0.89056105 0.73456794 0.50507958 0.37632419 0.4998463\n",
      " 0.11686054 0.90647303 0.52249013 0.4495012  0.4242959  0.52162842]\n",
      "Moyenne : 0.5708106323046387\n",
      "Nombre de valeurs supérieures à la moyenne : 4\n"
     ]
    }
   ],
   "source": [
    "my_array = np.random.rand(12)\n",
    "print(my_array)\n",
    "\n",
    "avg = np.mean(my_array)\n",
    "print(\"Moyenne :\", avg)\n",
    "\n",
    "more_than_avg = np.sum(my_array > avg)\n",
    "print(\"Nombre de valeurs supérieures à la moyenne :\", more_than_avg)"
   ]
  },
  {
   "cell_type": "markdown",
   "id": "c207be2e",
   "metadata": {},
   "source": [
    "> Générez un tableau de 50 entiers entre 10 et 100.  \n",
    "> Calculez le 25e, le 50e (médiane) et le 75e percentile."
   ]
  },
  {
   "cell_type": "code",
   "execution_count": 231,
   "id": "e5f7781b",
   "metadata": {},
   "outputs": [
    {
     "name": "stdout",
     "output_type": "stream",
     "text": [
      "[20 74 57 87 68 11 56 48 19 36 50 77 15 99 95 43 71 45 13 88 48 30 58 62\n",
      " 80 41 67 55 79 80 93 30 48 26 60 17 10 65 75 64 93 62 51 15 60 48 98 80\n",
      " 43 77]\n",
      "25e percentile : 41.5\n",
      "50e percentile : 57.5\n",
      "75e percentile : 76.5\n"
     ]
    }
   ],
   "source": [
    "my_array = np.random.randint(10, 101, (50,))\n",
    "print(my_array)\n",
    "\n",
    "q1 = np.percentile(my_array, 25)\n",
    "q2 = np.percentile(my_array, 50)\n",
    "q3 = np.percentile(my_array, 75)\n",
    "\n",
    "print(\"25e percentile :\", q1)\n",
    "print(\"50e percentile :\", q2)\n",
    "print(\"75e percentile :\", q3)"
   ]
  },
  {
   "cell_type": "markdown",
   "id": "5b8e577d",
   "metadata": {},
   "source": [
    "# 6. 🔧 Empilement et fusion de tableaux"
   ]
  },
  {
   "cell_type": "markdown",
   "id": "8696bdd1",
   "metadata": {},
   "source": [
    "Il est souvent nécessaire de combiner plusieurs tableaux NumPy pour former des structures plus grandes.  \n",
    "Cela peut se faire en ajoutant des lignes (empilement vertical) ou des colonnes (empilement horizontal).\n",
    "\n",
    "NumPy propose plusieurs fonctions pour cela :\n",
    "\n",
    "- `np.vstack` : empilement dans le sens **vertical** (ajoute des lignes)\n",
    "- `np.hstack` : empilement dans le sens **horizontal** (ajoute des colonnes)\n",
    "- `np.concatenate` : fusion plus générale, où l’on choisit l’axe (`axis=0` pour les lignes, `axis=1` pour les colonnes)\n",
    "\n",
    "⚠️ Pour que ces opérations fonctionnent, les **dimensions doivent être compatibles** :\n",
    "- Pour empiler verticalement, les **nombres de colonnes doivent être identiques**\n",
    "- Pour empiler horizontalement, les **nombres de lignes doivent être identiques**"
   ]
  },
  {
   "cell_type": "code",
   "execution_count": 232,
   "id": "dd24beab",
   "metadata": {},
   "outputs": [
    {
     "name": "stdout",
     "output_type": "stream",
     "text": [
      "Empilement vertical (vstack) :\n",
      " [[1 2]\n",
      " [3 4]\n",
      " [5 6]] \n",
      "\n",
      "Empilement horizontal (hstack) :\n",
      " [[1 2 1 2]\n",
      " [3 4 3 4]] \n",
      "\n",
      "Concaténation verticale :\n",
      " [[1 2]\n",
      " [3 4]\n",
      " [5 6]] \n",
      "\n",
      "Concaténation horizontale :\n",
      " [[1 2 1 2]\n",
      " [3 4 3 4]] \n",
      "\n"
     ]
    }
   ],
   "source": [
    "a = np.array([[1, 2], [3, 4]])  # matrice 2x2\n",
    "b = np.array([[5, 6]])          # matrice 1x2\n",
    "\n",
    "\n",
    "# Empilement vertical : ajoute des lignes (mêmes nombres de colonnes requis)\n",
    "vstacked = np.vstack([a, b])\n",
    "print(\"Empilement vertical (vstack) :\\n\", vstacked, \"\\n\")\n",
    "\n",
    "# Empilement horizontal : ajoute des colonnes (mêmes nombres de lignes requis)\n",
    "hstacked = np.hstack([a, a])\n",
    "print(\"Empilement horizontal (hstack) :\\n\", hstacked, \"\\n\")\n",
    "\n",
    "\n",
    "# Fusion avec np.concatenate (plus général)\n",
    "conc_v = np.concatenate([a, b], axis=0)  # même que vstack\n",
    "print(\"Concaténation verticale :\\n\", conc_v, \"\\n\")\n",
    "\n",
    "conc_h = np.concatenate([a, a], axis=1)  # même que hstack\n",
    "print(\"Concaténation horizontale :\\n\", conc_h, \"\\n\")\n",
    "\n",
    "\n",
    "# 💡 INFO :\n",
    "# np.vstack([a, b]) et np.concatenate([a, b], axis=0) donnent exactement le même résultat :\n",
    "# → ils empilent les tableaux verticalement (ajout de lignes).\n",
    "\n",
    "# De même, np.hstack([a, a]) et np.concatenate([a, a], axis=1) sont aussi équivalents :\n",
    "# → ils empilent les tableaux horizontalement (ajout de colonnes).\n",
    "\n",
    "# ✅ vstack / hstack sont plus lisibles pour débuter,\n",
    "# ✅ concatenate est plus flexible (surtout utile pour des tableaux à plus de 2 dimensions)."
   ]
  },
  {
   "cell_type": "markdown",
   "id": "2aabc930",
   "metadata": {},
   "source": [
    "### 🧩 Exercices"
   ]
  },
  {
   "cell_type": "markdown",
   "id": "9b90ed9b",
   "metadata": {},
   "source": [
    "> Créez deux matrices compatibles pour un empilement vertical :  \n",
    "> - une matrice `a` de forme `(2, 3)`  \n",
    "> - une matrice `b` de forme `(1, 3)`  \n",
    "> - Utilisez `np.vstack()` pour les empiler."
   ]
  },
  {
   "cell_type": "code",
   "execution_count": 233,
   "id": "8319f532",
   "metadata": {},
   "outputs": [
    {
     "data": {
      "text/plain": [
       "array([[1, 2, 3],\n",
       "       [4, 5, 6],\n",
       "       [7, 8, 9]])"
      ]
     },
     "execution_count": 233,
     "metadata": {},
     "output_type": "execute_result"
    }
   ],
   "source": [
    "a = np.array([[1, 2, 3], [4, 5, 6]])\n",
    "b = np.array([[7, 8, 9]])\n",
    "\n",
    "a_b = np.vstack([a, b])\n",
    "\n",
    "a_b"
   ]
  },
  {
   "cell_type": "markdown",
   "id": "a851c4e6",
   "metadata": {},
   "source": [
    "> Reprenez les mêmes matrices que précdemment et utilisez np.concatenate() avec axis=0 pour vérifier qu’on obtient le même résultat qu’avec vstack."
   ]
  },
  {
   "cell_type": "code",
   "execution_count": 234,
   "id": "648340f6",
   "metadata": {},
   "outputs": [
    {
     "data": {
      "text/plain": [
       "array([[1, 2, 3],\n",
       "       [4, 5, 6],\n",
       "       [7, 8, 9]])"
      ]
     },
     "execution_count": 234,
     "metadata": {},
     "output_type": "execute_result"
    }
   ],
   "source": [
    "a_concat_b = np.concatenate([a, b], axis=0)\n",
    "\n",
    "a_concat_b"
   ]
  },
  {
   "cell_type": "markdown",
   "id": "89eb1495",
   "metadata": {},
   "source": [
    "> Reprenez les mêmes matrices que précédemment et utilisez np.concatenate() avec axis=1 pour vérifier qu’on obtient le même résultat qu’avec hstack."
   ]
  },
  {
   "cell_type": "code",
   "execution_count": 248,
   "id": "bc31eb1e",
   "metadata": {},
   "outputs": [
    {
     "name": "stdout",
     "output_type": "stream",
     "text": [
      "[[1 2 3 7]\n",
      " [4 5 6 8]]\n",
      "[[1 2 3 7]\n",
      " [4 5 6 8]]\n"
     ]
    }
   ],
   "source": [
    "# Reprise de la matrice a\n",
    "a = np.array([[1, 2, 3], [4, 5, 6]])\n",
    "\n",
    "# Pour que l'empilement horizontal fonctionne, b doit avoir le même nombre de lignes que a\n",
    "b = np.array([7, 8]).reshape(2, 1)  # forme (2, 1)\n",
    "\n",
    "print(np.hstack((a, b)))\n",
    "print(np.concatenate((a, b), axis=1))"
   ]
  },
  {
   "cell_type": "markdown",
   "id": "cc77e9b4",
   "metadata": {},
   "source": [
    "# 7. 📡 Broadcasting (adaptation automatique des dimensions)"
   ]
  },
  {
   "cell_type": "markdown",
   "id": "fcf72f68",
   "metadata": {},
   "source": [
    "En NumPy, les opérations entre tableaux (addition, soustraction, etc.) nécessitent normalement que les formes (shape) soient **compatibles**.\n",
    "\n",
    "Mais au lieu de lever une erreur quand les formes sont différentes, NumPy applique parfois automatiquement une règle intelligente d’adaptation des dimensions : c’est ce qu’on appelle le **broadcasting** (ou diffusion en français)."
   ]
  },
  {
   "cell_type": "code",
   "execution_count": null,
   "id": "0dc7e049",
   "metadata": {},
   "outputs": [],
   "source": [
    "A = np.array([[1], [2], [3]])  # Matrice de forme (3, 1) : vecteur colonne\n",
    "B = np.array([10, 20, 30])     # Vecteur ligne de forme (3,)\n",
    "\n",
    "print(\"A.shape =\", A.shape, \"\\n\")    # Affiche la forme de A : (3, 1)\n",
    "print(\"B.shape =\", B.shape, \"\\n\")    # Affiche la forme de B : (3,)\n",
    "\n",
    "# NumPy étend automatiquement A horizontalement (comme si on le copiait 3 fois en colonnes) pour l’aligner avec B (qui est traité comme une ligne).\n",
    "# Résultat : addition élément par élément dans une matrice de forme (3, 3)\n",
    "print(\"Résultat du broadcasting :\\n\", A + B)"
   ]
  },
  {
   "cell_type": "markdown",
   "id": "f4f62246",
   "metadata": {},
   "source": [
    "### 🧩 Exercices"
   ]
  },
  {
   "cell_type": "markdown",
   "id": "16d258bd",
   "metadata": {},
   "source": [
    "> Créez un vecteur `a = np.array([1, 2, 3])`.  \n",
    "> Ajoutez le scalaire `5` à ce vecteur. Que se passe-t-il ?"
   ]
  },
  {
   "cell_type": "code",
   "execution_count": 241,
   "id": "7510ccc3",
   "metadata": {},
   "outputs": [
    {
     "name": "stdout",
     "output_type": "stream",
     "text": [
      "[1 2 3]\n",
      "[6 7 8]\n"
     ]
    }
   ],
   "source": [
    "a = np.array([1, 2, 3])\n",
    "\n",
    "print(a)\n",
    "print(a + 5)"
   ]
  },
  {
   "cell_type": "markdown",
   "id": "08436591",
   "metadata": {},
   "source": [
    "> Créez une matrice `M` de forme (3, 4) avec `np.ones((3, 4))`.  \n",
    "> Créez un vecteur `v = np.array([10, 20, 30, 40])`.  \n",
    "> Faites `M + v` et observez le résultat."
   ]
  },
  {
   "cell_type": "code",
   "execution_count": 244,
   "id": "3b2a34ab",
   "metadata": {},
   "outputs": [
    {
     "data": {
      "text/plain": [
       "array([[11., 21., 31., 41.],\n",
       "       [11., 21., 31., 41.],\n",
       "       [11., 21., 31., 41.]])"
      ]
     },
     "execution_count": 244,
     "metadata": {},
     "output_type": "execute_result"
    }
   ],
   "source": [
    "M = np.ones((3, 4))\n",
    "v = np.array([10, 20, 30, 40])\n",
    "\n",
    "M + v"
   ]
  },
  {
   "cell_type": "markdown",
   "id": "59acc516",
   "metadata": {},
   "source": [
    "> Créez une matrice `M = np.ones((3, 4))`.  \n",
    "> Créez un vecteur colonne `v = np.array([[1], [2], [3]])`.  \n",
    "> Faites `M + v`. Pourquoi cela fonctionne ?"
   ]
  },
  {
   "cell_type": "code",
   "execution_count": 247,
   "id": "5d00e435",
   "metadata": {},
   "outputs": [
    {
     "data": {
      "text/plain": [
       "array([[2., 2., 2., 2.],\n",
       "       [3., 3., 3., 3.],\n",
       "       [4., 4., 4., 4.]])"
      ]
     },
     "execution_count": 247,
     "metadata": {},
     "output_type": "execute_result"
    }
   ],
   "source": [
    "M = np.ones((3, 4))\n",
    "v = np.array([1, 2, 3]).reshape(3, 1)\n",
    "M + v"
   ]
  },
  {
   "cell_type": "markdown",
   "id": "baa35a77",
   "metadata": {},
   "source": [
    "> Créez `A = np.array([[1], [2], [3]])` (forme 3x1)  \n",
    "> Créez `B = np.array([10, 20])` (forme 2,)  \n",
    "> Essayez `A + B`. Que se passe-t-il ? Pourquoi ?"
   ]
  },
  {
   "cell_type": "code",
   "execution_count": 266,
   "id": "8d397d7a",
   "metadata": {},
   "outputs": [
    {
     "data": {
      "text/plain": [
       "array([[11, 21],\n",
       "       [12, 22],\n",
       "       [13, 23]])"
      ]
     },
     "execution_count": 266,
     "metadata": {},
     "output_type": "execute_result"
    }
   ],
   "source": [
    "A = np.array([[1], [2], [3]])\n",
    "B = np.array([10, 20]) \n",
    "\n",
    "A + B\n",
    "\n",
    "# L'opération est OK grâce au broadcasting qui procède au reshape de chaque array pour les rendre compatibles"
   ]
  },
  {
   "cell_type": "markdown",
   "id": "4b4e33bd",
   "metadata": {},
   "source": [
    "> Créez `X = np.ones((2, 3, 4))`  \n",
    "> Créez `Y = np.array([[10, 20, 30, 40], [50, 60, 70, 80], [90, 100, 110, 120]])` (forme 3x4)  \n",
    "> Essayez `X + Y` et observez la forme du résultat."
   ]
  },
  {
   "cell_type": "code",
   "execution_count": null,
   "id": "ffb94d1c",
   "metadata": {},
   "outputs": [
    {
     "name": "stdout",
     "output_type": "stream",
     "text": [
      "[[[ 11.  21.  31.  41.]\n",
      "  [ 51.  61.  71.  81.]\n",
      "  [ 91. 101. 111. 121.]]\n",
      "\n",
      " [[ 11.  21.  31.  41.]\n",
      "  [ 51.  61.  71.  81.]\n",
      "  [ 91. 101. 111. 121.]]]\n",
      "(2, 3, 4)\n"
     ]
    }
   ],
   "source": [
    "X = np.ones((2, 3, 4))\n",
    "Y = np.array([[10, 20, 30, 40],\n",
    "              [50, 60, 70, 80],\n",
    "              [90, 100, 110, 120]])\n",
    "\n",
    "result = X + Y\n",
    "print(result)\n",
    "print(result.shape)\n",
    "\n",
    "# Le résultat est une matrice 3D\n"
   ]
  },
  {
   "cell_type": "markdown",
   "id": "035e3483",
   "metadata": {},
   "source": [
    "---\n",
    "## ✅ Bravo !\n",
    "Vous connaissez maintenant les bases essentielles de NumPy. Vous allez pouvoir aborder d'autres libriaries telles que **Pandas** ou **Scikit-learn**."
   ]
  }
 ],
 "metadata": {
  "kernelspec": {
   "display_name": ".venv",
   "language": "python",
   "name": "python3"
  },
  "language_info": {
   "codemirror_mode": {
    "name": "ipython",
    "version": 3
   },
   "file_extension": ".py",
   "mimetype": "text/x-python",
   "name": "python",
   "nbconvert_exporter": "python",
   "pygments_lexer": "ipython3",
   "version": "3.13.3"
  }
 },
 "nbformat": 4,
 "nbformat_minor": 5
}
